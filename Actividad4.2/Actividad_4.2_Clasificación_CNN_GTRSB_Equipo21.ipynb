{
  "cells": [
    {
      "cell_type": "code",
      "execution_count": 1,
      "metadata": {
        "id": "SXwrPnYrIWPD"
      },
      "outputs": [
        {
          "name": "stderr",
          "output_type": "stream",
          "text": [
            "2025-06-08 04:11:24.142319: I tensorflow/core/util/port.cc:153] oneDNN custom operations are on. You may see slightly different numerical results due to floating-point round-off errors from different computation orders. To turn them off, set the environment variable `TF_ENABLE_ONEDNN_OPTS=0`.\n",
            "2025-06-08 04:11:24.153891: E external/local_xla/xla/stream_executor/cuda/cuda_fft.cc:485] Unable to register cuFFT factory: Attempting to register factory for plugin cuFFT when one has already been registered\n",
            "2025-06-08 04:11:24.167855: E external/local_xla/xla/stream_executor/cuda/cuda_dnn.cc:8454] Unable to register cuDNN factory: Attempting to register factory for plugin cuDNN when one has already been registered\n",
            "2025-06-08 04:11:24.172719: E external/local_xla/xla/stream_executor/cuda/cuda_blas.cc:1452] Unable to register cuBLAS factory: Attempting to register factory for plugin cuBLAS when one has already been registered\n",
            "2025-06-08 04:11:24.183971: I tensorflow/core/platform/cpu_feature_guard.cc:210] This TensorFlow binary is optimized to use available CPU instructions in performance-critical operations.\n",
            "To enable the following instructions: SSE4.1 SSE4.2 AVX AVX2 AVX_VNNI FMA, in other operations, rebuild TensorFlow with the appropriate compiler flags.\n"
          ]
        }
      ],
      "source": [
        "import numpy as np # - Procesamiento de imágenes (cv2, numpy)\n",
        "import pandas as pd # - Manipulación de datos (pandas)\n",
        "import os\n",
        "import cv2\n",
        "from sklearn import metrics  #- Métricas de evaluación (sklearn)\n",
        "from sklearn.metrics import f1_score, accuracy_score,confusion_matrix,classification_report\n",
        "import matplotlib.pyplot as plt # - Visualización de resultados (matplotlib, seaborn)\n",
        "import seaborn as sns\n",
        "from tensorflow.keras.utils import to_categorical # - Construcción y entrenamiento de modelos de deep learning (keras)\n",
        "from tensorflow.keras.models import Sequential\n",
        "from tensorflow.keras.layers import Conv2D, MaxPooling2D, Flatten, Dense, Dropout\n",
        "from sklearn.model_selection import train_test_split # - División de datos en entrenamiento y prueba (sklearn)"
      ]
    },
    {
      "cell_type": "markdown",
      "metadata": {
        "id": "6hV-Jq_lVgLO"
      },
      "source": [
        "## **Procesamiento de las Imagenes**"
      ]
    },
    {
      "cell_type": "code",
      "execution_count": 2,
      "metadata": {
        "id": "zb4kCWO8Ifnd"
      },
      "outputs": [],
      "source": [
        "path = \"Desktop/MNA/Navegacion/Tarea - CNN/archive\"\n",
        "data_dir1= path + \"/Train\"\n",
        "img_size=32\n",
        "clases=43\n",
        "señales=[]\n",
        "labels=[]"
      ]
    },
    {
      "cell_type": "code",
      "execution_count": 3,
      "metadata": {
        "id": "2e6VVfoU2tF-"
      },
      "outputs": [],
      "source": [
        "def cargar_datos(data_dir,clases=43,img_size=32):\n",
        "      for classfolder in range(clases):\n",
        "          path = os.path.join(data_dir,str(classfolder)) # Construye la ruta de la clase\n",
        "          imagenes = os.listdir(path) # Lista todas las imágenes en la carpeta de la clase\n",
        "\n",
        "          for imagen in imagenes:\n",
        "                  imagenpath = os.path.join(path,imagen) # Ruta completa de la imagen\n",
        "                  image = cv2.imread(imagenpath)# Lee la imagen desde disco \n",
        "                  image = cv2.resize(image,(img_size,img_size))  # Redimensiona la imagen\n",
        "                  image = cv2.cvtColor(image, cv2.COLOR_BGR2RGB) # Convierte la imagen a RGB\n",
        "                  image = np.array(image)  # Convierte la imagen a un arreglo numpy\n",
        "                  señales.append(image)  # Agrega la imagen procesada a la lista de señales\n",
        "                  labels.append(classfolder)# Agrega la etiqueta correspondiente\n",
        "      return np.array(señales),np.array(labels) # Devuelve los arreglos de imágenes y etiquetas"
      ]
    },
    {
      "cell_type": "code",
      "execution_count": 4,
      "metadata": {
        "id": "203FpJoo32X3"
      },
      "outputs": [],
      "source": [
        "señales1, labels1 = cargar_datos(path+\"/Train\")# Carga las imágenes y etiquetas de entrenamiento usando la función definida.\n",
        "# 'señales1' contendrá los arreglos de imágenes procesadas y 'labels1' las etiquetas correspondientes."
      ]
    },
    {
      "cell_type": "markdown",
      "metadata": {
        "id": "mVbfoj4vVq3O"
      },
      "source": [
        "## **Separacion de datos de entrenamiento y prueba**"
      ]
    },
    {
      "cell_type": "code",
      "execution_count": 5,
      "metadata": {
        "colab": {
          "base_uri": "https://localhost:8080/"
        },
        "id": "_28OOozAo23S",
        "outputId": "c2d1fb40-7db4-4b08-e304-43dae82c9cc9"
      },
      "outputs": [
        {
          "name": "stdout",
          "output_type": "stream",
          "text": [
            "imagenes:  (39209, 32, 32, 3)\n",
            "labels:  (39209,)\n",
            "Xtrain:  (31367, 32, 32, 3)\n",
            "Xtest:  (7842, 32, 32, 3)\n",
            "ytrain:  (31367, 43)\n",
            "ytest:  (7842, 43)\n"
          ]
        }
      ],
      "source": [
        "# Muestra la cantidad de imágenes y etiquetas cargadas para verificar la correcta lectura de datos\n",
        "print(\"imagenes: \",señales1.shape)\n",
        "print(\"labels: \", labels1.shape)\n",
        "# Convierte las etiquetas a formato one-hot para clasificación multiclase\n",
        "y=to_categorical(labels1,clases)\n",
        "# Divide el dataset en conjuntos de entrenamiento y prueba (80% entrenamiento, 20% prueba)\n",
        "X_train, X_test, y_train, y_test = train_test_split(señales1, y, test_size=0.2, random_state=42)\n",
        "# Imprime las dimensiones de los conjuntos resultantes para confirmar la separación\n",
        "print(\"Xtrain: \",X_train.shape)\n",
        "print(\"Xtest: \",X_test.shape)\n",
        "print(\"ytrain: \",y_train.shape)\n",
        "print(\"ytest: \",y_test.shape)\n"
      ]
    },
    {
      "cell_type": "markdown",
      "metadata": {
        "id": "3XK23Y8aVR9I"
      },
      "source": [
        "## **Creación del modelo**"
      ]
    },
    {
      "cell_type": "code",
      "execution_count": 6,
      "metadata": {
        "colab": {
          "base_uri": "https://localhost:8080/",
          "height": 524
        },
        "id": "ZGAniGa2qb-_",
        "outputId": "0e90bac2-5a25-4995-c13b-cabe4152ae0c"
      },
      "outputs": [
        {
          "name": "stderr",
          "output_type": "stream",
          "text": [
            "/home/raven/miniconda3/envs/nav3/lib/python3.11/site-packages/keras/src/layers/convolutional/base_conv.py:113: UserWarning: Do not pass an `input_shape`/`input_dim` argument to a layer. When using Sequential models, prefer using an `Input(shape)` object as the first layer in the model instead.\n",
            "  super().__init__(activity_regularizer=activity_regularizer, **kwargs)\n",
            "WARNING: All log messages before absl::InitializeLog() is called are written to STDERR\n",
            "I0000 00:00:1749377662.694746   13846 cuda_executor.cc:1001] could not open file to read NUMA node: /sys/bus/pci/devices/0000:01:00.0/numa_node\n",
            "Your kernel may have been built without NUMA support.\n",
            "I0000 00:00:1749377662.794673   13846 cuda_executor.cc:1001] could not open file to read NUMA node: /sys/bus/pci/devices/0000:01:00.0/numa_node\n",
            "Your kernel may have been built without NUMA support.\n",
            "I0000 00:00:1749377662.794746   13846 cuda_executor.cc:1001] could not open file to read NUMA node: /sys/bus/pci/devices/0000:01:00.0/numa_node\n",
            "Your kernel may have been built without NUMA support.\n",
            "I0000 00:00:1749377662.797312   13846 cuda_executor.cc:1001] could not open file to read NUMA node: /sys/bus/pci/devices/0000:01:00.0/numa_node\n",
            "Your kernel may have been built without NUMA support.\n",
            "I0000 00:00:1749377662.797392   13846 cuda_executor.cc:1001] could not open file to read NUMA node: /sys/bus/pci/devices/0000:01:00.0/numa_node\n",
            "Your kernel may have been built without NUMA support.\n",
            "I0000 00:00:1749377662.797435   13846 cuda_executor.cc:1001] could not open file to read NUMA node: /sys/bus/pci/devices/0000:01:00.0/numa_node\n",
            "Your kernel may have been built without NUMA support.\n",
            "I0000 00:00:1749377663.108240   13846 cuda_executor.cc:1001] could not open file to read NUMA node: /sys/bus/pci/devices/0000:01:00.0/numa_node\n",
            "Your kernel may have been built without NUMA support.\n",
            "I0000 00:00:1749377663.108426   13846 cuda_executor.cc:1001] could not open file to read NUMA node: /sys/bus/pci/devices/0000:01:00.0/numa_node\n",
            "Your kernel may have been built without NUMA support.\n",
            "2025-06-08 04:14:23.108444: I tensorflow/core/common_runtime/gpu/gpu_device.cc:2112] Could not identify NUMA node of platform GPU id 0, defaulting to 0.  Your kernel may not have been built with NUMA support.\n",
            "I0000 00:00:1749377663.108526   13846 cuda_executor.cc:1001] could not open file to read NUMA node: /sys/bus/pci/devices/0000:01:00.0/numa_node\n",
            "Your kernel may have been built without NUMA support.\n",
            "2025-06-08 04:14:23.108561: I tensorflow/core/common_runtime/gpu/gpu_device.cc:2021] Created device /job:localhost/replica:0/task:0/device:GPU:0 with 19525 MB memory:  -> device: 0, name: NVIDIA GeForce RTX 4090, pci bus id: 0000:01:00.0, compute capability: 8.9\n"
          ]
        },
        {
          "data": {
            "text/html": [
              "<pre style=\"white-space:pre;overflow-x:auto;line-height:normal;font-family:Menlo,'DejaVu Sans Mono',consolas,'Courier New',monospace\"><span style=\"font-weight: bold\">Model: \"sequential\"</span>\n",
              "</pre>\n"
            ],
            "text/plain": [
              "\u001b[1mModel: \"sequential\"\u001b[0m\n"
            ]
          },
          "metadata": {},
          "output_type": "display_data"
        },
        {
          "data": {
            "text/html": [
              "<pre style=\"white-space:pre;overflow-x:auto;line-height:normal;font-family:Menlo,'DejaVu Sans Mono',consolas,'Courier New',monospace\">┏━━━━━━━━━━━━━━━━━━━━━━━━━━━━━━━━━┳━━━━━━━━━━━━━━━━━━━━━━━━┳━━━━━━━━━━━━━━━┓\n",
              "┃<span style=\"font-weight: bold\"> Layer (type)                    </span>┃<span style=\"font-weight: bold\"> Output Shape           </span>┃<span style=\"font-weight: bold\">       Param # </span>┃\n",
              "┡━━━━━━━━━━━━━━━━━━━━━━━━━━━━━━━━━╇━━━━━━━━━━━━━━━━━━━━━━━━╇━━━━━━━━━━━━━━━┩\n",
              "│ conv2d (<span style=\"color: #0087ff; text-decoration-color: #0087ff\">Conv2D</span>)                 │ (<span style=\"color: #00d7ff; text-decoration-color: #00d7ff\">None</span>, <span style=\"color: #00af00; text-decoration-color: #00af00\">30</span>, <span style=\"color: #00af00; text-decoration-color: #00af00\">30</span>, <span style=\"color: #00af00; text-decoration-color: #00af00\">64</span>)     │         <span style=\"color: #00af00; text-decoration-color: #00af00\">1,792</span> │\n",
              "├─────────────────────────────────┼────────────────────────┼───────────────┤\n",
              "│ max_pooling2d (<span style=\"color: #0087ff; text-decoration-color: #0087ff\">MaxPooling2D</span>)    │ (<span style=\"color: #00d7ff; text-decoration-color: #00d7ff\">None</span>, <span style=\"color: #00af00; text-decoration-color: #00af00\">15</span>, <span style=\"color: #00af00; text-decoration-color: #00af00\">15</span>, <span style=\"color: #00af00; text-decoration-color: #00af00\">64</span>)     │             <span style=\"color: #00af00; text-decoration-color: #00af00\">0</span> │\n",
              "├─────────────────────────────────┼────────────────────────┼───────────────┤\n",
              "│ conv2d_1 (<span style=\"color: #0087ff; text-decoration-color: #0087ff\">Conv2D</span>)               │ (<span style=\"color: #00d7ff; text-decoration-color: #00d7ff\">None</span>, <span style=\"color: #00af00; text-decoration-color: #00af00\">13</span>, <span style=\"color: #00af00; text-decoration-color: #00af00\">13</span>, <span style=\"color: #00af00; text-decoration-color: #00af00\">128</span>)    │        <span style=\"color: #00af00; text-decoration-color: #00af00\">73,856</span> │\n",
              "├─────────────────────────────────┼────────────────────────┼───────────────┤\n",
              "│ dropout (<span style=\"color: #0087ff; text-decoration-color: #0087ff\">Dropout</span>)               │ (<span style=\"color: #00d7ff; text-decoration-color: #00d7ff\">None</span>, <span style=\"color: #00af00; text-decoration-color: #00af00\">13</span>, <span style=\"color: #00af00; text-decoration-color: #00af00\">13</span>, <span style=\"color: #00af00; text-decoration-color: #00af00\">128</span>)    │             <span style=\"color: #00af00; text-decoration-color: #00af00\">0</span> │\n",
              "├─────────────────────────────────┼────────────────────────┼───────────────┤\n",
              "│ conv2d_2 (<span style=\"color: #0087ff; text-decoration-color: #0087ff\">Conv2D</span>)               │ (<span style=\"color: #00d7ff; text-decoration-color: #00d7ff\">None</span>, <span style=\"color: #00af00; text-decoration-color: #00af00\">11</span>, <span style=\"color: #00af00; text-decoration-color: #00af00\">11</span>, <span style=\"color: #00af00; text-decoration-color: #00af00\">256</span>)    │       <span style=\"color: #00af00; text-decoration-color: #00af00\">295,168</span> │\n",
              "├─────────────────────────────────┼────────────────────────┼───────────────┤\n",
              "│ max_pooling2d_1 (<span style=\"color: #0087ff; text-decoration-color: #0087ff\">MaxPooling2D</span>)  │ (<span style=\"color: #00d7ff; text-decoration-color: #00d7ff\">None</span>, <span style=\"color: #00af00; text-decoration-color: #00af00\">5</span>, <span style=\"color: #00af00; text-decoration-color: #00af00\">5</span>, <span style=\"color: #00af00; text-decoration-color: #00af00\">256</span>)      │             <span style=\"color: #00af00; text-decoration-color: #00af00\">0</span> │\n",
              "├─────────────────────────────────┼────────────────────────┼───────────────┤\n",
              "│ flatten (<span style=\"color: #0087ff; text-decoration-color: #0087ff\">Flatten</span>)               │ (<span style=\"color: #00d7ff; text-decoration-color: #00d7ff\">None</span>, <span style=\"color: #00af00; text-decoration-color: #00af00\">6400</span>)           │             <span style=\"color: #00af00; text-decoration-color: #00af00\">0</span> │\n",
              "├─────────────────────────────────┼────────────────────────┼───────────────┤\n",
              "│ dense (<span style=\"color: #0087ff; text-decoration-color: #0087ff\">Dense</span>)                   │ (<span style=\"color: #00d7ff; text-decoration-color: #00d7ff\">None</span>, <span style=\"color: #00af00; text-decoration-color: #00af00\">512</span>)            │     <span style=\"color: #00af00; text-decoration-color: #00af00\">3,277,312</span> │\n",
              "├─────────────────────────────────┼────────────────────────┼───────────────┤\n",
              "│ dropout_1 (<span style=\"color: #0087ff; text-decoration-color: #0087ff\">Dropout</span>)             │ (<span style=\"color: #00d7ff; text-decoration-color: #00d7ff\">None</span>, <span style=\"color: #00af00; text-decoration-color: #00af00\">512</span>)            │             <span style=\"color: #00af00; text-decoration-color: #00af00\">0</span> │\n",
              "├─────────────────────────────────┼────────────────────────┼───────────────┤\n",
              "│ dense_1 (<span style=\"color: #0087ff; text-decoration-color: #0087ff\">Dense</span>)                 │ (<span style=\"color: #00d7ff; text-decoration-color: #00d7ff\">None</span>, <span style=\"color: #00af00; text-decoration-color: #00af00\">43</span>)             │        <span style=\"color: #00af00; text-decoration-color: #00af00\">22,059</span> │\n",
              "└─────────────────────────────────┴────────────────────────┴───────────────┘\n",
              "</pre>\n"
            ],
            "text/plain": [
              "┏━━━━━━━━━━━━━━━━━━━━━━━━━━━━━━━━━┳━━━━━━━━━━━━━━━━━━━━━━━━┳━━━━━━━━━━━━━━━┓\n",
              "┃\u001b[1m \u001b[0m\u001b[1mLayer (type)                   \u001b[0m\u001b[1m \u001b[0m┃\u001b[1m \u001b[0m\u001b[1mOutput Shape          \u001b[0m\u001b[1m \u001b[0m┃\u001b[1m \u001b[0m\u001b[1m      Param #\u001b[0m\u001b[1m \u001b[0m┃\n",
              "┡━━━━━━━━━━━━━━━━━━━━━━━━━━━━━━━━━╇━━━━━━━━━━━━━━━━━━━━━━━━╇━━━━━━━━━━━━━━━┩\n",
              "│ conv2d (\u001b[38;5;33mConv2D\u001b[0m)                 │ (\u001b[38;5;45mNone\u001b[0m, \u001b[38;5;34m30\u001b[0m, \u001b[38;5;34m30\u001b[0m, \u001b[38;5;34m64\u001b[0m)     │         \u001b[38;5;34m1,792\u001b[0m │\n",
              "├─────────────────────────────────┼────────────────────────┼───────────────┤\n",
              "│ max_pooling2d (\u001b[38;5;33mMaxPooling2D\u001b[0m)    │ (\u001b[38;5;45mNone\u001b[0m, \u001b[38;5;34m15\u001b[0m, \u001b[38;5;34m15\u001b[0m, \u001b[38;5;34m64\u001b[0m)     │             \u001b[38;5;34m0\u001b[0m │\n",
              "├─────────────────────────────────┼────────────────────────┼───────────────┤\n",
              "│ conv2d_1 (\u001b[38;5;33mConv2D\u001b[0m)               │ (\u001b[38;5;45mNone\u001b[0m, \u001b[38;5;34m13\u001b[0m, \u001b[38;5;34m13\u001b[0m, \u001b[38;5;34m128\u001b[0m)    │        \u001b[38;5;34m73,856\u001b[0m │\n",
              "├─────────────────────────────────┼────────────────────────┼───────────────┤\n",
              "│ dropout (\u001b[38;5;33mDropout\u001b[0m)               │ (\u001b[38;5;45mNone\u001b[0m, \u001b[38;5;34m13\u001b[0m, \u001b[38;5;34m13\u001b[0m, \u001b[38;5;34m128\u001b[0m)    │             \u001b[38;5;34m0\u001b[0m │\n",
              "├─────────────────────────────────┼────────────────────────┼───────────────┤\n",
              "│ conv2d_2 (\u001b[38;5;33mConv2D\u001b[0m)               │ (\u001b[38;5;45mNone\u001b[0m, \u001b[38;5;34m11\u001b[0m, \u001b[38;5;34m11\u001b[0m, \u001b[38;5;34m256\u001b[0m)    │       \u001b[38;5;34m295,168\u001b[0m │\n",
              "├─────────────────────────────────┼────────────────────────┼───────────────┤\n",
              "│ max_pooling2d_1 (\u001b[38;5;33mMaxPooling2D\u001b[0m)  │ (\u001b[38;5;45mNone\u001b[0m, \u001b[38;5;34m5\u001b[0m, \u001b[38;5;34m5\u001b[0m, \u001b[38;5;34m256\u001b[0m)      │             \u001b[38;5;34m0\u001b[0m │\n",
              "├─────────────────────────────────┼────────────────────────┼───────────────┤\n",
              "│ flatten (\u001b[38;5;33mFlatten\u001b[0m)               │ (\u001b[38;5;45mNone\u001b[0m, \u001b[38;5;34m6400\u001b[0m)           │             \u001b[38;5;34m0\u001b[0m │\n",
              "├─────────────────────────────────┼────────────────────────┼───────────────┤\n",
              "│ dense (\u001b[38;5;33mDense\u001b[0m)                   │ (\u001b[38;5;45mNone\u001b[0m, \u001b[38;5;34m512\u001b[0m)            │     \u001b[38;5;34m3,277,312\u001b[0m │\n",
              "├─────────────────────────────────┼────────────────────────┼───────────────┤\n",
              "│ dropout_1 (\u001b[38;5;33mDropout\u001b[0m)             │ (\u001b[38;5;45mNone\u001b[0m, \u001b[38;5;34m512\u001b[0m)            │             \u001b[38;5;34m0\u001b[0m │\n",
              "├─────────────────────────────────┼────────────────────────┼───────────────┤\n",
              "│ dense_1 (\u001b[38;5;33mDense\u001b[0m)                 │ (\u001b[38;5;45mNone\u001b[0m, \u001b[38;5;34m43\u001b[0m)             │        \u001b[38;5;34m22,059\u001b[0m │\n",
              "└─────────────────────────────────┴────────────────────────┴───────────────┘\n"
            ]
          },
          "metadata": {},
          "output_type": "display_data"
        },
        {
          "data": {
            "text/html": [
              "<pre style=\"white-space:pre;overflow-x:auto;line-height:normal;font-family:Menlo,'DejaVu Sans Mono',consolas,'Courier New',monospace\"><span style=\"font-weight: bold\"> Total params: </span><span style=\"color: #00af00; text-decoration-color: #00af00\">3,670,187</span> (14.00 MB)\n",
              "</pre>\n"
            ],
            "text/plain": [
              "\u001b[1m Total params: \u001b[0m\u001b[38;5;34m3,670,187\u001b[0m (14.00 MB)\n"
            ]
          },
          "metadata": {},
          "output_type": "display_data"
        },
        {
          "data": {
            "text/html": [
              "<pre style=\"white-space:pre;overflow-x:auto;line-height:normal;font-family:Menlo,'DejaVu Sans Mono',consolas,'Courier New',monospace\"><span style=\"font-weight: bold\"> Trainable params: </span><span style=\"color: #00af00; text-decoration-color: #00af00\">3,670,187</span> (14.00 MB)\n",
              "</pre>\n"
            ],
            "text/plain": [
              "\u001b[1m Trainable params: \u001b[0m\u001b[38;5;34m3,670,187\u001b[0m (14.00 MB)\n"
            ]
          },
          "metadata": {},
          "output_type": "display_data"
        },
        {
          "data": {
            "text/html": [
              "<pre style=\"white-space:pre;overflow-x:auto;line-height:normal;font-family:Menlo,'DejaVu Sans Mono',consolas,'Courier New',monospace\"><span style=\"font-weight: bold\"> Non-trainable params: </span><span style=\"color: #00af00; text-decoration-color: #00af00\">0</span> (0.00 B)\n",
              "</pre>\n"
            ],
            "text/plain": [
              "\u001b[1m Non-trainable params: \u001b[0m\u001b[38;5;34m0\u001b[0m (0.00 B)\n"
            ]
          },
          "metadata": {},
          "output_type": "display_data"
        }
      ],
      "source": [
        "# Definición del modelo de red neuronal convolucional (CNN) para clasificación de señales de tráfico\n",
        "modelo=Sequential([\n",
        "    # Primera capa convolucional con 64 filtros, tamaño de kernel 3x3 y función de activación ReLU\n",
        "    Conv2D(64,(3,3),activation=\"relu\",input_shape=(32,32,3)),\n",
        "    # Capa de max pooling para reducir la dimensionalidad\n",
        "    MaxPooling2D((2,2)),\n",
        "    # Segunda capa convolucional con 128 filtros y función de activación ReLU\n",
        "    Conv2D(128,(3,3),activation=\"relu\"),\n",
        "    # Capa de max pooling para reducir la dimensionalidad\n",
        "    Dropout(0.2),\n",
        "    # Tercera capa convolucional con 256 filtros y función de activación ReLU\n",
        "    Conv2D(256,(3,3),activation=\"relu\"),\n",
        "    # Capa de max pooling para reducir la dimensionalidad\n",
        "    MaxPooling2D((2,2)),\n",
        "    # Aplanamiento de la salida para conectarla a la capa densa\n",
        "    Flatten(),\n",
        "     # Capa densa totalmente conectada con 512 neuronas y activación ReLU\n",
        "    Dense(512,activation=\"relu\"),\n",
        "     # Dropout adicional para regularización (50%)\n",
        "    Dropout(0.5),\n",
        "     # Capa de salida con 43 neuronas (una por cada clase) y activación softmax para clasificación multiclase\n",
        "    Dense(43,activation=\"softmax\")\n",
        "                 ])\n",
        "# Compilación del modelo especificando el optimizador, la función de pérdida y la métrica de evaluación\n",
        "modelo.compile(optimizer=\"adam\",loss=\"categorical_crossentropy\",metrics=[\"accuracy\"])\n",
        "# Muestra un resumen de la arquitectura del modelo\n",
        "modelo.summary()"
      ]
    },
    {
      "cell_type": "markdown",
      "metadata": {
        "id": "nyzsVXgXU21Q"
      },
      "source": [
        "## **Entrenamiento y prueba**"
      ]
    },
    {
      "cell_type": "markdown",
      "metadata": {
        "id": "LkIoF_aWVDaH"
      },
      "source": [
        "### Entrenamiento del modelo"
      ]
    },
    {
      "cell_type": "code",
      "execution_count": 7,
      "metadata": {
        "colab": {
          "base_uri": "https://localhost:8080/"
        },
        "id": "J7VYiEC9sBvJ",
        "outputId": "e701b238-7a88-44c7-d0d6-b71cea792355"
      },
      "outputs": [
        {
          "name": "stdout",
          "output_type": "stream",
          "text": [
            "Epoch 1/20\n"
          ]
        },
        {
          "name": "stderr",
          "output_type": "stream",
          "text": [
            "I0000 00:00:1749377676.769727   14392 service.cc:146] XLA service 0x75bb3001d920 initialized for platform CUDA (this does not guarantee that XLA will be used). Devices:\n",
            "I0000 00:00:1749377676.769767   14392 service.cc:154]   StreamExecutor device (0): NVIDIA GeForce RTX 4090, Compute Capability 8.9\n",
            "2025-06-08 04:14:36.790616: I tensorflow/compiler/mlir/tensorflow/utils/dump_mlir_util.cc:268] disabling MLIR crash reproducer, set env var `MLIR_CRASH_REPRODUCER_DIRECTORY` to enable.\n",
            "2025-06-08 04:14:36.906345: I external/local_xla/xla/stream_executor/cuda/cuda_dnn.cc:531] Loaded cuDNN version 90201\n",
            "2025-06-08 04:14:37.370759: I external/local_xla/xla/stream_executor/cuda/cuda_asm_compiler.cc:393] ptxas warning : Registers are spilled to local memory in function 'gemm_fusion_dot_1192', 288 bytes spill stores, 288 bytes spill loads\n",
            "\n"
          ]
        },
        {
          "name": "stdout",
          "output_type": "stream",
          "text": [
            "\u001b[1m  6/111\u001b[0m \u001b[32m━\u001b[0m\u001b[37m━━━━━━━━━━━━━━━━━━━\u001b[0m \u001b[1m3s\u001b[0m 35ms/step - accuracy: 0.0336 - loss: 46.7058"
          ]
        },
        {
          "name": "stderr",
          "output_type": "stream",
          "text": [
            "I0000 00:00:1749377680.295378   14392 device_compiler.h:188] Compiled cluster using XLA!  This line is logged at most once for the lifetime of the process.\n"
          ]
        },
        {
          "name": "stdout",
          "output_type": "stream",
          "text": [
            "\u001b[1m107/111\u001b[0m \u001b[32m━━━━━━━━━━━━━━━━━━━\u001b[0m\u001b[37m━\u001b[0m \u001b[1m0s\u001b[0m 13ms/step - accuracy: 0.2410 - loss: 9.9749 "
          ]
        },
        {
          "name": "stderr",
          "output_type": "stream",
          "text": [
            "2025-06-08 04:14:49.127495: I external/local_xla/xla/stream_executor/cuda/cuda_asm_compiler.cc:393] ptxas warning : Registers are spilled to local memory in function 'gemm_fusion_dot_1192', 48 bytes spill stores, 48 bytes spill loads\n",
            "\n"
          ]
        },
        {
          "name": "stdout",
          "output_type": "stream",
          "text": [
            "\u001b[1m111/111\u001b[0m \u001b[32m━━━━━━━━━━━━━━━━━━━━\u001b[0m\u001b[37m\u001b[0m \u001b[1m0s\u001b[0m 33ms/step - accuracy: 0.2491 - loss: 9.7474"
          ]
        },
        {
          "name": "stderr",
          "output_type": "stream",
          "text": [
            "2025-06-08 04:14:44.634870: I external/local_xla/xla/stream_executor/cuda/cuda_asm_compiler.cc:393] ptxas warning : Registers are spilled to local memory in function 'gemm_fusion_dot_103', 16 bytes spill stores, 16 bytes spill loads\n",
            "\n",
            "2025-06-08 04:14:46.287934: I external/local_xla/xla/stream_executor/cuda/cuda_asm_compiler.cc:393] ptxas warning : Registers are spilled to local memory in function 'gemm_fusion_dot_103', 128 bytes spill stores, 128 bytes spill loads\n",
            "\n"
          ]
        },
        {
          "name": "stdout",
          "output_type": "stream",
          "text": [
            "\u001b[1m111/111\u001b[0m \u001b[32m━━━━━━━━━━━━━━━━━━━━\u001b[0m\u001b[37m\u001b[0m \u001b[1m11s\u001b[0m 62ms/step - accuracy: 0.2510 - loss: 9.6929 - val_accuracy: 0.8903 - val_loss: 0.4756\n",
            "Epoch 2/20\n",
            "\u001b[1m111/111\u001b[0m \u001b[32m━━━━━━━━━━━━━━━━━━━━\u001b[0m\u001b[37m\u001b[0m \u001b[1m1s\u001b[0m 6ms/step - accuracy: 0.8517 - loss: 0.5367 - val_accuracy: 0.9735 - val_loss: 0.1256\n",
            "Epoch 3/20\n",
            "\u001b[1m111/111\u001b[0m \u001b[32m━━━━━━━━━━━━━━━━━━━━\u001b[0m\u001b[37m\u001b[0m \u001b[1m1s\u001b[0m 11ms/step - accuracy: 0.9409 - loss: 0.2246 - val_accuracy: 0.9837 - val_loss: 0.0728\n",
            "Epoch 4/20\n",
            "\u001b[1m111/111\u001b[0m \u001b[32m━━━━━━━━━━━━━━━━━━━━\u001b[0m\u001b[37m\u001b[0m \u001b[1m1s\u001b[0m 10ms/step - accuracy: 0.9637 - loss: 0.1307 - val_accuracy: 0.9853 - val_loss: 0.0566\n",
            "Epoch 5/20\n",
            "\u001b[1m111/111\u001b[0m \u001b[32m━━━━━━━━━━━━━━━━━━━━\u001b[0m\u001b[37m\u001b[0m \u001b[1m1s\u001b[0m 10ms/step - accuracy: 0.9723 - loss: 0.0946 - val_accuracy: 0.9933 - val_loss: 0.0304\n",
            "Epoch 6/20\n",
            "\u001b[1m111/111\u001b[0m \u001b[32m━━━━━━━━━━━━━━━━━━━━\u001b[0m\u001b[37m\u001b[0m \u001b[1m1s\u001b[0m 11ms/step - accuracy: 0.9793 - loss: 0.0822 - val_accuracy: 0.9943 - val_loss: 0.0266\n",
            "Epoch 7/20\n",
            "\u001b[1m111/111\u001b[0m \u001b[32m━━━━━━━━━━━━━━━━━━━━\u001b[0m\u001b[37m\u001b[0m \u001b[1m1s\u001b[0m 6ms/step - accuracy: 0.9857 - loss: 0.0553 - val_accuracy: 0.9959 - val_loss: 0.0191\n",
            "Epoch 8/20\n",
            "\u001b[1m111/111\u001b[0m \u001b[32m━━━━━━━━━━━━━━━━━━━━\u001b[0m\u001b[37m\u001b[0m \u001b[1m1s\u001b[0m 10ms/step - accuracy: 0.9838 - loss: 0.0573 - val_accuracy: 0.9968 - val_loss: 0.0168\n",
            "Epoch 9/20\n",
            "\u001b[1m111/111\u001b[0m \u001b[32m━━━━━━━━━━━━━━━━━━━━\u001b[0m\u001b[37m\u001b[0m \u001b[1m1s\u001b[0m 13ms/step - accuracy: 0.9871 - loss: 0.0490 - val_accuracy: 0.9962 - val_loss: 0.0228\n",
            "Epoch 10/20\n",
            "\u001b[1m111/111\u001b[0m \u001b[32m━━━━━━━━━━━━━━━━━━━━\u001b[0m\u001b[37m\u001b[0m \u001b[1m1s\u001b[0m 11ms/step - accuracy: 0.9891 - loss: 0.0370 - val_accuracy: 0.9946 - val_loss: 0.0203\n",
            "Epoch 11/20\n",
            "\u001b[1m111/111\u001b[0m \u001b[32m━━━━━━━━━━━━━━━━━━━━\u001b[0m\u001b[37m\u001b[0m \u001b[1m1s\u001b[0m 7ms/step - accuracy: 0.9876 - loss: 0.0510 - val_accuracy: 0.9959 - val_loss: 0.0191\n",
            "Epoch 12/20\n",
            "\u001b[1m111/111\u001b[0m \u001b[32m━━━━━━━━━━━━━━━━━━━━\u001b[0m\u001b[37m\u001b[0m \u001b[1m1s\u001b[0m 10ms/step - accuracy: 0.9904 - loss: 0.0348 - val_accuracy: 0.9949 - val_loss: 0.0236\n",
            "Epoch 13/20\n",
            "\u001b[1m111/111\u001b[0m \u001b[32m━━━━━━━━━━━━━━━━━━━━\u001b[0m\u001b[37m\u001b[0m \u001b[1m1s\u001b[0m 11ms/step - accuracy: 0.9909 - loss: 0.0360 - val_accuracy: 0.9959 - val_loss: 0.0181\n",
            "Epoch 14/20\n",
            "\u001b[1m111/111\u001b[0m \u001b[32m━━━━━━━━━━━━━━━━━━━━\u001b[0m\u001b[37m\u001b[0m \u001b[1m1s\u001b[0m 11ms/step - accuracy: 0.9894 - loss: 0.0411 - val_accuracy: 0.9971 - val_loss: 0.0161\n",
            "Epoch 15/20\n",
            "\u001b[1m111/111\u001b[0m \u001b[32m━━━━━━━━━━━━━━━━━━━━\u001b[0m\u001b[37m\u001b[0m \u001b[1m1s\u001b[0m 11ms/step - accuracy: 0.9937 - loss: 0.0242 - val_accuracy: 0.9962 - val_loss: 0.0130\n",
            "Epoch 16/20\n",
            "\u001b[1m111/111\u001b[0m \u001b[32m━━━━━━━━━━━━━━━━━━━━\u001b[0m\u001b[37m\u001b[0m \u001b[1m1s\u001b[0m -52974us/step - accuracy: 0.9931 - loss: 0.0248 - val_accuracy: 0.9965 - val_loss: 0.0171\n",
            "Epoch 17/20\n",
            "\u001b[1m111/111\u001b[0m \u001b[32m━━━━━━━━━━━━━━━━━━━━\u001b[0m\u001b[37m\u001b[0m \u001b[1m1s\u001b[0m 11ms/step - accuracy: 0.9924 - loss: 0.0287 - val_accuracy: 0.9965 - val_loss: 0.0218\n",
            "Epoch 18/20\n",
            "\u001b[1m111/111\u001b[0m \u001b[32m━━━━━━━━━━━━━━━━━━━━\u001b[0m\u001b[37m\u001b[0m \u001b[1m1s\u001b[0m 11ms/step - accuracy: 0.9828 - loss: 0.0672 - val_accuracy: 0.9955 - val_loss: 0.0227\n",
            "Epoch 19/20\n",
            "\u001b[1m111/111\u001b[0m \u001b[32m━━━━━━━━━━━━━━━━━━━━\u001b[0m\u001b[37m\u001b[0m \u001b[1m1s\u001b[0m 10ms/step - accuracy: 0.9932 - loss: 0.0273 - val_accuracy: 0.9959 - val_loss: 0.0177\n",
            "Epoch 20/20\n",
            "\u001b[1m111/111\u001b[0m \u001b[32m━━━━━━━━━━━━━━━━━━━━\u001b[0m\u001b[37m\u001b[0m \u001b[1m1s\u001b[0m 6ms/step - accuracy: 0.9935 - loss: 0.0240 - val_accuracy: 0.9971 - val_loss: 0.0096\n"
          ]
        }
      ],
      "source": [
        "# Entrenamiento del modelo de red neuronal convolucional (CNN) usando los datos de entrenamiento.\n",
        "# - X_train: imágenes de entrenamiento\n",
        "# - y_train: etiquetas en formato one-hot\n",
        "# - epochs=20: número de épocas de entrenamiento\n",
        "# - batch_size=256: tamaño del lote para cada iteración\n",
        "# - validation_split=0.1: el 10% de los datos de entrenamiento se usan para validación\n",
        "# El historial de entrenamiento (precisión y pérdida por época) se guarda en la variable 'historial'.\n",
        "historial=modelo.fit(X_train,y_train,epochs=20, batch_size=256,validation_split=0.1)"
      ]
    },
    {
      "cell_type": "markdown",
      "metadata": {
        "id": "ZZjTpTm8UiV0"
      },
      "source": [
        "### Evaluando el modelo con la data de prueba"
      ]
    },
    {
      "cell_type": "code",
      "execution_count": 8,
      "metadata": {
        "colab": {
          "base_uri": "https://localhost:8080/"
        },
        "id": "cFLSf17RspH8",
        "outputId": "357d11a3-549f-4f2b-aafe-2f3098c05f70"
      },
      "outputs": [
        {
          "name": "stderr",
          "output_type": "stream",
          "text": [
            "2025-06-08 04:15:08.046344: I external/local_xla/xla/stream_executor/cuda/cuda_asm_compiler.cc:393] ptxas warning : Registers are spilled to local memory in function 'gemm_fusion_dot_103', 16 bytes spill stores, 16 bytes spill loads\n",
            "\n"
          ]
        },
        {
          "name": "stdout",
          "output_type": "stream",
          "text": [
            "\u001b[1m234/246\u001b[0m \u001b[32m━━━━━━━━━━━━━━━━━━━\u001b[0m\u001b[37m━\u001b[0m \u001b[1m0s\u001b[0m 2ms/step - accuracy: 0.9964 - loss: 0.0207"
          ]
        },
        {
          "name": "stderr",
          "output_type": "stream",
          "text": [
            "2025-06-08 04:15:09.600775: I external/local_xla/xla/stream_executor/cuda/cuda_asm_compiler.cc:393] ptxas warning : Registers are spilled to local memory in function 'gemm_fusion_dot_103', 232 bytes spill stores, 232 bytes spill loads\n",
            "\n"
          ]
        },
        {
          "name": "stdout",
          "output_type": "stream",
          "text": [
            "\u001b[1m246/246\u001b[0m \u001b[32m━━━━━━━━━━━━━━━━━━━━\u001b[0m\u001b[37m\u001b[0m \u001b[1m3s\u001b[0m 6ms/step - accuracy: 0.9964 - loss: 0.0208\n",
            "loss:  0.02249419130384922\n",
            "accuracy:  0.9965569972991943\n"
          ]
        }
      ],
      "source": [
        "# Evalúa el modelo entrenado utilizando el conjunto de prueba (X_test, y_test)\n",
        "# 'loss' es el valor de la función de pérdida y 'accuracy' es la precisión obtenida en los datos de prueba.\n",
        "loss,accuracy=modelo.evaluate(X_test,y_test)\n",
        "# Imprime en consola el valor de la pérdida y la precisión del modelo sobre el conjunto de prueba.\n",
        "print(\"loss: \",loss)\n",
        "print(\"accuracy: \",accuracy)"
      ]
    },
    {
      "cell_type": "markdown",
      "metadata": {
        "id": "u5vezwo0UVms"
      },
      "source": [
        "### Graficas de precisión y pérdia"
      ]
    },
    {
      "cell_type": "code",
      "execution_count": 9,
      "metadata": {
        "colab": {
          "base_uri": "https://localhost:8080/",
          "height": 507
        },
        "id": "Vj7eYYKk0vNS",
        "outputId": "5a4349d1-40b2-4c7e-e099-7f6edfc7f10e"
      },
      "outputs": [
        {
          "data": {
            "image/png": "[encoded data removed]",
            "text/plain": [
              "<Figure size 1200x500 with 2 Axes>"
            ]
          },
          "metadata": {},
          "output_type": "display_data"
        }
      ],
      "source": [
        "# Imprime en consola el valor de la pérdida y la precisión del modelo sobre el conjunto de prueba.\n",
        "plt.figure(figsize=(12, 5)) # Crea una figura de tamaño 12x5\n",
        "plt.subplot(1, 2, 1)# Gráfica de precisión (accuracy)\n",
        "plt.plot(historial.history['accuracy'], label='Train Acc')   # Precisión en entrenamiento\n",
        "plt.plot(historial.history['val_accuracy'], label='Val Acc') # Precisión en validación\n",
        "plt.legend(); plt.title(\"Precisión\")                         # Muestra la leyenda\n",
        "plt.grid()                                                   # Título del gráfico\n",
        "\n",
        "plt.subplot(1, 2, 2)\n",
        "plt.plot(historial.history['loss'], label='Train Loss')      # Pérdida en entrenamiento\n",
        "plt.plot(historial.history['val_loss'], label='Val Loss')    # Pérdida en validación\n",
        "plt.legend();                                                # Muestra la leyenda\n",
        "plt.title(\"Pérdida\")                                         # Muestra el título del gráfico\n",
        "plt.grid()                                                   # Muestra la cuadrícula en el gráfico\n",
        "plt.show()                                                   # Muestra el gráfico de precisión y pérdida durante el entrenamiento y validación"
      ]
    },
    {
      "cell_type": "markdown",
      "metadata": {
        "id": "U9JTfnXtT513"
      },
      "source": [
        "## **Usando las imagenes de la carpeta Test para validar el modelo**"
      ]
    },
    {
      "cell_type": "code",
      "execution_count": 10,
      "metadata": {
        "colab": {
          "base_uri": "https://localhost:8080/"
        },
        "id": "Bdi0-XgY2LUF",
        "outputId": "3c2d2964-1f69-4200-85d6-a35ba1d4be1f"
      },
      "outputs": [
        {
          "name": "stdout",
          "output_type": "stream",
          "text": [
            "Xval:  (12630, 32, 32, 3)\n",
            "yval:  (12630,)\n"
          ]
        }
      ],
      "source": [
        "# Directorio donde se encuentran las imágenes de prueba\n",
        "data_dir2= path\n",
        "# Lee el archivo CSV que contiene las etiquetas y rutas de las imágenes de prueba\n",
        "labels2=pd.read_csv(path + \"/Test.csv\")\n",
        "# Extrae las etiquetas verdaderas y las rutas de las imágenes desde el DataFrame\n",
        "y_val=labels2[\"ClassId\"].values\n",
        "imagenes2=labels2[\"Path\"].values\n",
        "señales2=[]\n",
        "# Procesa cada imagen de prueba: lee, redimensiona y convierte a RGB, luego la agrega a la lista\n",
        "for imagen in imagenes2:\n",
        "                  imagenpath = os.path.join(data_dir2,imagen)    # Ruta completa de la imagen\n",
        "                  image = cv2.imread(imagenpath)                 # Lee la imagen desde disco\n",
        "                  image = cv2.resize(image,(img_size,img_size))  # Redimensiona la imagen\n",
        "                  image = cv2.cvtColor(image, cv2.COLOR_BGR2RGB) # Convierte la imagen a RGB\n",
        "                  image = np.array(image)                        # Convierte la imagen a un arreglo numpy\n",
        "                  señales2.append(image)                         # Agrega la imagen procesada a la lista\n",
        "# Convierte la lista de imágenes procesadas a un arreglo numpy\n",
        "X_val=np.array(señales2)\n",
        "# Imprime las dimensiones de los datos de prueba para verificar la carga correcta\n",
        "print(\"Xval: \",X_val.shape)\n",
        "print(\"yval: \",y_val.shape)"
      ]
    },
    {
      "cell_type": "code",
      "execution_count": 11,
      "metadata": {
        "colab": {
          "base_uri": "https://localhost:8080/"
        },
        "id": "8MzWRUbE6cNX",
        "outputId": "d9211faf-fefe-46a1-9822-f6484f9d027c"
      },
      "outputs": [
        {
          "name": "stdout",
          "output_type": "stream",
          "text": [
            "\u001b[1m395/395\u001b[0m \u001b[32m━━━━━━━━━━━━━━━━━━━━\u001b[0m\u001b[37m\u001b[0m \u001b[1m2s\u001b[0m 4ms/step\n",
            "0.9746634996041171\n",
            "              precision    recall  f1-score   support\n",
            "\n",
            "           0       0.95      1.00      0.98        60\n",
            "           1       0.98      0.99      0.99       720\n",
            "           2       0.98      0.99      0.99       750\n",
            "           3       0.98      0.97      0.97       450\n",
            "           4       1.00      0.97      0.98       660\n",
            "           5       0.91      0.98      0.94       630\n",
            "           6       1.00      0.91      0.95       150\n",
            "           7       1.00      0.95      0.97       450\n",
            "           8       0.95      0.99      0.97       450\n",
            "           9       0.98      1.00      0.99       480\n",
            "          10       1.00      0.99      0.99       660\n",
            "          11       0.94      0.99      0.96       420\n",
            "          12       0.99      0.98      0.99       690\n",
            "          13       0.99      0.99      0.99       720\n",
            "          14       1.00      1.00      1.00       270\n",
            "          15       0.97      0.99      0.98       210\n",
            "          16       1.00      0.99      1.00       150\n",
            "          17       1.00      0.96      0.98       360\n",
            "          18       0.99      0.93      0.96       390\n",
            "          19       0.94      1.00      0.97        60\n",
            "          20       0.94      1.00      0.97        90\n",
            "          21       0.85      0.91      0.88        90\n",
            "          22       0.98      0.97      0.98       120\n",
            "          23       0.97      1.00      0.99       150\n",
            "          24       0.98      0.94      0.96        90\n",
            "          25       0.94      0.96      0.95       480\n",
            "          26       0.93      0.83      0.88       180\n",
            "          27       0.76      0.53      0.63        60\n",
            "          28       0.99      1.00      0.99       150\n",
            "          29       0.99      1.00      0.99        90\n",
            "          30       0.99      0.78      0.87       150\n",
            "          31       0.99      1.00      1.00       270\n",
            "          32       0.95      1.00      0.98        60\n",
            "          33       1.00      1.00      1.00       210\n",
            "          34       0.99      0.99      0.99       120\n",
            "          35       0.99      0.99      0.99       390\n",
            "          36       0.99      0.96      0.97       120\n",
            "          37       1.00      1.00      1.00        60\n",
            "          38       0.98      0.99      0.99       690\n",
            "          39       0.99      0.97      0.98        90\n",
            "          40       0.92      0.98      0.95        90\n",
            "          41       0.88      0.93      0.90        60\n",
            "          42       1.00      0.91      0.95        90\n",
            "\n",
            "    accuracy                           0.97     12630\n",
            "   macro avg       0.97      0.96      0.96     12630\n",
            "weighted avg       0.98      0.97      0.97     12630\n",
            "\n"
          ]
        }
      ],
      "source": [
        "# Realiza la predicción de las clases para las imágenes de validación\n",
        "Prediccion=modelo.predict(X_val)\n",
        "# Obtiene la clase predicha para cada imagen (índice del valor máximo en cada vector de predicción)\n",
        "y_pred=np.argmax(Prediccion,axis=1)\n",
        "# Imprime la precisión del modelo en el conjunto de validación\n",
        "print(accuracy_score(y_val,y_pred))\n",
        "# Imprime el reporte de clasificación (precisión, recall y f1-score por clase)\n",
        "print(classification_report(y_val,y_pred))"
      ]
    },
    {
      "cell_type": "markdown",
      "metadata": {
        "id": "7UyJnkLvTSYg"
      },
      "source": [
        "## **Visualizacion imagen original VS prediccion**"
      ]
    },
    {
      "cell_type": "code",
      "execution_count": 12,
      "metadata": {
        "colab": {
          "base_uri": "https://localhost:8080/",
          "height": 481
        },
        "id": "b1irqif_INOk",
        "outputId": "9b2665dd-521b-4aa8-c107-cdfa782e0d00"
      },
      "outputs": [
        {
          "name": "stdout",
          "output_type": "stream",
          "text": [
            "\u001b[1m1/1\u001b[0m \u001b[32m━━━━━━━━━━━━━━━━━━━━\u001b[0m\u001b[37m\u001b[0m \u001b[1m7s\u001b[0m 7s/step\n"
          ]
        },
        {
          "name": "stderr",
          "output_type": "stream",
          "text": [
            "2025-06-08 04:16:09.094461: E external/local_xla/xla/service/slow_operation_alarm.cc:65] Trying algorithm eng20{k2=2,k4=0,k5=0,k6=0,k7=0,k19=0} for conv (f32[1,256,11,11]{3,2,1,0}, u8[0]{0}) custom-call(f32[1,128,13,13]{3,2,1,0}, f32[256,128,3,3]{3,2,1,0}, f32[256]{0}), window={size=3x3}, dim_labels=bf01_oi01->bf01, custom_call_target=\"__cudnn$convBiasActivationForward\", backend_config={\"operation_queue_id\":\"0\",\"wait_on_operation_queues\":[],\"cudnn_conv_backend_config\":{\"activation_mode\":\"kRelu\",\"conv_result_scale\":1,\"side_input_scale\":0,\"leakyrelu_alpha\":0},\"force_earliest_schedule\":false} is taking a while...\n",
            "2025-06-08 04:16:09.095659: E external/local_xla/xla/service/slow_operation_alarm.cc:133] The operation took 6.441592356s\n",
            "Trying algorithm eng20{k2=2,k4=0,k5=0,k6=0,k7=0,k19=0} for conv (f32[1,256,11,11]{3,2,1,0}, u8[0]{0}) custom-call(f32[1,128,13,13]{3,2,1,0}, f32[256,128,3,3]{3,2,1,0}, f32[256]{0}), window={size=3x3}, dim_labels=bf01_oi01->bf01, custom_call_target=\"__cudnn$convBiasActivationForward\", backend_config={\"operation_queue_id\":\"0\",\"wait_on_operation_queues\":[],\"cudnn_conv_backend_config\":{\"activation_mode\":\"kRelu\",\"conv_result_scale\":1,\"side_input_scale\":0,\"leakyrelu_alpha\":0},\"force_earliest_schedule\":false} is taking a while...\n"
          ]
        },
        {
          "name": "stdout",
          "output_type": "stream",
          "text": [
            "Prediccion:  [35]\n"
          ]
        },
        {
          "data": {
            "image/png": "[encoded data removed]",
            "text/plain": [
              "<Figure size 1000x1000 with 2 Axes>"
            ]
          },
          "metadata": {},
          "output_type": "display_data"
        }
      ],
      "source": [
        "import random\n",
        "\n",
        "metadata = path + \"/Meta\"\n",
        "# Selecciona aleatoriamente una imagen de prueba de la carpeta Test\n",
        "rutaimagen = os.path.join(data_dir2,random.choice(imagenes2))\n",
        "imagen = cv2.imread(rutaimagen)                                # Lee la imagen original desde disco\n",
        "imagen1 = cv2.cvtColor(imagen, cv2.COLOR_BGR2RGB)              # Convierte la imagen a RGB para visualización\n",
        "imagen2 = cv2.resize(imagen1,(img_size,img_size))              # Redimensiona la imagen al tamaño requerido por el modelo\n",
        "imagen3 = np.array(imagen2)                                    # Convierte la imagen a un arreglo numpy\n",
        "# Realiza la predicción de la clase para la imagen seleccionada\n",
        "Pred_img=modelo.predict(imagen3.reshape(1,32,32,3))            # Ajusta la forma para el modelo (batch de 1 imagen)\n",
        "Pred_img_num=np.argmax(Pred_img,axis=1)                        # Obtiene la clase predicha (índice del valor máximo)\n",
        "print(\"Prediccion: \",Pred_img_num)\n",
        "# Busca la imagen de referencia de la clase predicha en la carpeta Meta\n",
        "rutametadata=os.path.join(metadata,str(Pred_img_num[0])+\".png\")\n",
        "metadata1=cv2.imread(rutametadata)                             # Lee la imagen de referencia\n",
        "metadata2=cv2.cvtColor(metadata1,cv2.COLOR_BGR2RGB)            # Convierte la imagen de referencia a RGB\n",
        "\n",
        "# Visualiza la imagen original y la imagen de la clase predicha lado a lado\n",
        "plt.figure(figsize=(10,10))\n",
        "plt.subplot(1,2,1)\n",
        "plt.title(\"Imagen Original\")\n",
        "plt.imshow(imagen1)\n",
        "\n",
        "plt.subplot(1,2,2)\n",
        "plt.title(\"Imagen Predecida\")\n",
        "plt.imshow(metadata2)\n",
        "plt.show()"
      ]
    },
    {
      "cell_type": "code",
      "execution_count": null,
      "metadata": {
        "id": "yotRLGWqNIa4"
      },
      "outputs": [],
      "source": [
        "\n"
      ]
    }
  ],
  "metadata": {
    "accelerator": "GPU",
    "colab": {
      "gpuType": "A100",
      "machine_shape": "hm",
      "provenance": []
    },
    "kernelspec": {
      "display_name": "Python (nav3)",
      "language": "python",
      "name": "nav3"
    },
    "language_info": {
      "codemirror_mode": {
        "name": "ipython",
        "version": 3
      },
      "file_extension": ".py",
      "mimetype": "text/x-python",
      "name": "python",
      "nbconvert_exporter": "python",
      "pygments_lexer": "ipython3",
      "version": "3.11.11"
    }
  },
  "nbformat": 4,
  "nbformat_minor": 0
}
